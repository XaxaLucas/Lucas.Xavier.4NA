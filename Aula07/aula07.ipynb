{
 "cells": [
  {
   "cell_type": "code",
   "execution_count": 34,
   "id": "b40f9acc",
   "metadata": {},
   "outputs": [],
   "source": [
    "import numpy as np\n",
    "import pandas as pd\n",
    "import re\n",
    "import random\n",
    "from collections import defaultdict, Counter\n",
    "import matplotlib.pyplot as plt\n",
    "%matplotlib inline"
   ]
  },
  {
   "cell_type": "code",
   "execution_count": 35,
   "id": "71fdf0a7",
   "metadata": {},
   "outputs": [],
   "source": [
    "def limpar_texto(texto):\n",
    "    texto = texto.lower()  # Converte tudo para minúsculas\n",
    "    texto = re.sub(r'[^\\w\\s]', ' ', texto)  # Remove pontuações\n",
    "    texto = re.sub(r'\\d+', ' ', texto)      # Remove números\n",
    "    texto = re.sub(r'\\s+', ' ', texto)      # Substitui múltiplos espaços por um só\n",
    "    return texto.strip()"
   ]
  },
  {
   "cell_type": "code",
   "execution_count": 36,
   "id": "fcb727bf",
   "metadata": {},
   "outputs": [],
   "source": [
    "texto_demo = \"\"\"\n",
    "A modelagem de linguagem natural é uma técnica importante no processamento de linguagem natural.\n",
    "Os modelos de linguagem podem ser usados para prever a próxima palavra em uma sequência.\n",
    "Existem diversos tipos de modelos de linguagem, incluindo modelos baseados em N-grams e modelos neurais.\n",
    "Os modelos baseados em N-grams são mais simples, mas ainda muito úteis em diversas aplicações.\n",
    "\"\"\""
   ]
  },
  {
   "cell_type": "code",
   "execution_count": 37,
   "id": "f2baa97d",
   "metadata": {},
   "outputs": [
    {
     "name": "stdout",
     "output_type": "stream",
     "text": [
      "a modelagem de linguagem natural é uma técnica importante no processamento de linguagem natural os modelos de linguagem podem ser usados para prever a próxima palavra em uma sequência existem diversos tipos de modelos de linguagem incluindo modelos baseados em n grams e modelos neurais os modelos baseados em n grams são mais simples mas ainda muito úteis em diversas aplicações\n"
     ]
    }
   ],
   "source": [
    "texto_tratado = limpar_texto(texto_demo)\n",
    "print(texto_tratado)"
   ]
  },
  {
   "cell_type": "code",
   "execution_count": 38,
   "id": "0976923b",
   "metadata": {},
   "outputs": [
    {
     "name": "stdout",
     "output_type": "stream",
     "text": [
      "Quantidade de palavras: 61\n",
      "Exemplo: ['a', 'modelagem', 'de', 'linguagem', 'natural', 'é', 'uma', 'técnica', 'importante', 'no']\n"
     ]
    }
   ],
   "source": [
    "palavras = limpar_texto(texto_demo).split()\n",
    "print(\"Quantidade de palavras:\", len(palavras))\n",
    "print(\"Exemplo:\", palavras[:10])"
   ]
  },
  {
   "cell_type": "code",
   "execution_count": 39,
   "id": "fa4d191c",
   "metadata": {},
   "outputs": [],
   "source": [
    "class ModeloNGram:\n",
    "    def __init__(self, n):\n",
    "        self.n = n\n",
    "        self.contagens = defaultdict(Counter)\n",
    "        self.modelo = {}\n",
    "\n",
    "    def treinar(self, palavras):\n",
    "        for i in range(len(palavras) - self.n + 1):\n",
    "            contexto = tuple(palavras[i:i+self.n-1])\n",
    "            alvo = palavras[i+self.n-1]\n",
    "            self.contagens[contexto][alvo] += 1\n",
    "\n",
    "        for contexto, alvos in self.contagens.items():\n",
    "            total = sum(alvos.values())\n",
    "            self.modelo[contexto] = {\n",
    "                palavra: freq / total for palavra, freq in alvos.items()\n",
    "            }\n",
    "\n",
    "    def proxima_palavra(self, contexto):\n",
    "        contexto = tuple(contexto[-(self.n-1):]) if self.n > 1 else ()\n",
    "        if contexto in self.modelo:\n",
    "            palavras = list(self.modelo[contexto].keys())\n",
    "            probs = list(self.modelo[contexto].values())\n",
    "            return np.random.choice(palavras, p=probs)\n",
    "        return None\n",
    "\n",
    "    def gerar_texto(self, contexto_inicial, quantidade=15):\n",
    "        if isinstance(contexto_inicial, str):\n",
    "            contexto_inicial = contexto_inicial.split()\n",
    "        if len(contexto_inicial) < self.n - 1:\n",
    "            raise ValueError(f\"Contexto inicial deve ter pelo menos {self.n - 1} palavras\")\n",
    "        texto = list(contexto_inicial)\n",
    "        for _ in range(quantidade):\n",
    "            prox = self.proxima_palavra(texto)\n",
    "            if not prox:\n",
    "                break\n",
    "            texto.append(prox)\n",
    "        return ' '.join(texto)"
   ]
  },
  {
   "cell_type": "code",
   "execution_count": 40,
   "id": "2d7c8b9e",
   "metadata": {},
   "outputs": [],
   "source": [
    "modelo_1gram = ModeloNGram(1)\n",
    "modelo_2gram = ModeloNGram(2)\n",
    "modelo_7gram = ModeloNGram(7)\n",
    "\n",
    "modelo_1gram.treinar(palavras)\n",
    "modelo_2gram.treinar(palavras)\n",
    "modelo_7gram.treinar(palavras)"
   ]
  },
  {
   "cell_type": "code",
   "execution_count": 41,
   "id": "561ad9eb",
   "metadata": {},
   "outputs": [
    {
     "name": "stdout",
     "output_type": "stream",
     "text": [
      "Perplexidade:\n",
      "Unigram: 21321.741265907596\n",
      "Bigram: 12753811.709930701\n",
      "Trigram: 10000000000.000008\n"
     ]
    }
   ],
   "source": [
    "def calcular_perplexidade(modelo, texto_teste):\n",
    "    tokens = limpar_texto(texto_teste).split()\n",
    "    log_prob = 0\n",
    "    total = 0\n",
    "    for i in range(modelo.n - 1, len(tokens)):\n",
    "        contexto = tuple(tokens[i - modelo.n + 1:i]) if modelo.n > 1 else ()\n",
    "        alvo = tokens[i]\n",
    "        prob = modelo.modelo.get(contexto, {}).get(alvo, 1e-10)\n",
    "        log_prob += np.log2(prob)\n",
    "        total += 1\n",
    "    return 2 ** (-log_prob / total) if total > 0 else float('inf')\n",
    "\n",
    "texto_teste = \"\"\"\n",
    "Os modelos de linguagem são fundamentais para diversas aplicações.\n",
    "A modelagem estatística ajuda a entender padrões em textos.\n",
    "\"\"\"\n",
    "\n",
    "print(\"Perplexidade:\")\n",
    "print(\"Unigram:\", calcular_perplexidade(modelo_1gram, texto_teste))\n",
    "print(\"Bigram:\", calcular_perplexidade(modelo_2gram, texto_teste))\n",
    "print(\"Trigram:\", calcular_perplexidade(modelo_7gram, texto_teste))"
   ]
  },
  {
   "cell_type": "code",
   "execution_count": 42,
   "id": "73f80070",
   "metadata": {},
   "outputs": [
    {
     "data": {
      "image/png": "[encoded data removed]",
      "text/plain": [
       "<Figure size 1000x500 with 1 Axes>"
      ]
     },
     "metadata": {},
     "output_type": "display_data"
    },
    {
     "data": {
      "image/png": "[encoded data removed]",
      "text/plain": [
       "<Figure size 1000x500 with 1 Axes>"
      ]
     },
     "metadata": {},
     "output_type": "display_data"
    },
    {
     "data": {
      "image/png": "[encoded data removed]",
      "text/plain": [
       "<Figure size 1000x500 with 1 Axes>"
      ]
     },
     "metadata": {},
     "output_type": "display_data"
    }
   ],
   "source": [
    "def mostrar_distribuicao(modelo, contexto=None):\n",
    "    if modelo.n == 1:\n",
    "        contexto = ()\n",
    "    if contexto is None or contexto not in modelo.modelo:\n",
    "        contexto = list(modelo.modelo.keys())[0]\n",
    "    palavras = list(modelo.modelo[contexto].keys())\n",
    "    probs = list(modelo.modelo[contexto].values())\n",
    "    plt.figure(figsize=(10,5))\n",
    "    plt.bar(palavras[:10], probs[:10])\n",
    "    titulo = \"Distribuição unigram\" if modelo.n == 1 else f\"Contexto: {' '.join(contexto)}\"\n",
    "    plt.title(titulo)\n",
    "    plt.ylabel(\"Probabilidade\")\n",
    "    plt.xticks(rotation=45)\n",
    "    plt.show()\n",
    "\n",
    "mostrar_distribuicao(modelo_1gram)\n",
    "mostrar_distribuicao(modelo_2gram)\n",
    "mostrar_distribuicao(modelo_7gram)"
   ]
  },
  {
   "cell_type": "code",
   "execution_count": 43,
   "id": "2c12eb6c",
   "metadata": {},
   "outputs": [],
   "source": [
    "def distancia_edicao(s1, s2):\n",
    "    if len(s1) < len(s2):\n",
    "        return distancia_edicao(s2, s1)\n",
    "    if len(s2) == 0:\n",
    "        return len(s1)\n",
    "    anterior = list(range(len(s2) + 1))\n",
    "    for i, c1 in enumerate(s1):\n",
    "        atual = [i + 1]\n",
    "        for j, c2 in enumerate(s2):\n",
    "            custos = [\n",
    "                anterior[j + 1] + 1,\n",
    "                atual[j] + 1,\n",
    "                anterior[j] + (c1 != c2)\n",
    "            ]\n",
    "            atual.append(min(custos))\n",
    "        anterior = atual\n",
    "    return anterior[-1]\n",
    "\n",
    "def sugerir_palavra(palavra, modelo):\n",
    "    if palavra in modelo.modelo[()]:\n",
    "        return palavra\n",
    "    candidatos = []\n",
    "    for voc in modelo.modelo[()]:\n",
    "        dist = distancia_edicao(palavra, voc)\n",
    "        if dist <= 2:\n",
    "            prob = modelo.modelo[()].get(voc, 0)\n",
    "            candidatos.append((voc, dist, prob))\n",
    "    if not candidatos:\n",
    "        return palavra\n",
    "    candidatos.sort(key=lambda x: (x[1], -x[2]))\n",
    "    return candidatos[0][0]"
   ]
  },
  {
   "cell_type": "code",
   "execution_count": 44,
   "id": "3e157be1",
   "metadata": {},
   "outputs": [
    {
     "name": "stdout",
     "output_type": "stream",
     "text": [
      "Correções sugeridas:\n",
      "modelgem → modelagem\n",
      "linguaem → linguagem\n",
      "natual → natural\n",
      "processment → processamento\n"
     ]
    }
   ],
   "source": [
    "palavras_erradas = [\"modelgem\", \"linguaem\", \"natual\", \"processment\"]\n",
    "print(\"Correções sugeridas:\")\n",
    "for erro in palavras_erradas:\n",
    "    print(f\"{erro} → {sugerir_palavra(erro, modelo_1gram)}\")"
   ]
  },
  {
   "cell_type": "code",
   "execution_count": 45,
   "id": "7a1dc8cd",
   "metadata": {},
   "outputs": [
    {
     "name": "stdout",
     "output_type": "stream",
     "text": [
      "Textos gerados:\n",
      "Unigram: de em de próxima podem modelos de n os próxima é técnica modelos mas em natural linguagem mais próxima de importante existem ser n no no existem uma prever em\n",
      "Bigram: linguagem natural os modelos baseados em n grams são mais simples mas ainda muito úteis em\n"
     ]
    },
    {
     "ename": "ValueError",
     "evalue": "Contexto inicial deve ter pelo menos 6 palavras",
     "output_type": "error",
     "traceback": [
      "\u001b[31m---------------------------------------------------------------------------\u001b[39m",
      "\u001b[31mValueError\u001b[39m                                Traceback (most recent call last)",
      "\u001b[36mCell\u001b[39m\u001b[36m \u001b[39m\u001b[32mIn[45]\u001b[39m\u001b[32m, line 4\u001b[39m\n\u001b[32m      2\u001b[39m \u001b[38;5;28mprint\u001b[39m(\u001b[33m\"\u001b[39m\u001b[33mUnigram:\u001b[39m\u001b[33m\"\u001b[39m, modelo_1gram.gerar_texto([], \u001b[32m30\u001b[39m))\n\u001b[32m      3\u001b[39m \u001b[38;5;28mprint\u001b[39m(\u001b[33m\"\u001b[39m\u001b[33mBigram:\u001b[39m\u001b[33m\"\u001b[39m, modelo_2gram.gerar_texto([\u001b[33m\"\u001b[39m\u001b[33mlinguagem\u001b[39m\u001b[33m\"\u001b[39m], \u001b[32m15\u001b[39m))\n\u001b[32m----> \u001b[39m\u001b[32m4\u001b[39m \u001b[38;5;28mprint\u001b[39m(\u001b[33m\"\u001b[39m\u001b[33mSetgram:\u001b[39m\u001b[33m\"\u001b[39m, \u001b[43mmodelo_7gram\u001b[49m\u001b[43m.\u001b[49m\u001b[43mgerar_texto\u001b[49m\u001b[43m(\u001b[49m\u001b[43m[\u001b[49m\u001b[33;43m\"\u001b[39;49m\u001b[33;43mmodelos\u001b[39;49m\u001b[33;43m\"\u001b[39;49m\u001b[43m,\u001b[49m\u001b[43m \u001b[49m\u001b[33;43m\"\u001b[39;49m\u001b[33;43mde\u001b[39;49m\u001b[33;43m\"\u001b[39;49m\u001b[43m]\u001b[49m\u001b[43m,\u001b[49m\u001b[43m \u001b[49m\u001b[32;43m50\u001b[39;49m\u001b[43m)\u001b[49m)\n",
      "\u001b[36mCell\u001b[39m\u001b[36m \u001b[39m\u001b[32mIn[39]\u001b[39m\u001b[32m, line 31\u001b[39m, in \u001b[36mModeloNGram.gerar_texto\u001b[39m\u001b[34m(self, contexto_inicial, quantidade)\u001b[39m\n\u001b[32m     29\u001b[39m     contexto_inicial = contexto_inicial.split()\n\u001b[32m     30\u001b[39m \u001b[38;5;28;01mif\u001b[39;00m \u001b[38;5;28mlen\u001b[39m(contexto_inicial) < \u001b[38;5;28mself\u001b[39m.n - \u001b[32m1\u001b[39m:\n\u001b[32m---> \u001b[39m\u001b[32m31\u001b[39m     \u001b[38;5;28;01mraise\u001b[39;00m \u001b[38;5;167;01mValueError\u001b[39;00m(\u001b[33mf\u001b[39m\u001b[33m\"\u001b[39m\u001b[33mContexto inicial deve ter pelo menos \u001b[39m\u001b[38;5;132;01m{\u001b[39;00m\u001b[38;5;28mself\u001b[39m.n\u001b[38;5;250m \u001b[39m-\u001b[38;5;250m \u001b[39m\u001b[32m1\u001b[39m\u001b[38;5;132;01m}\u001b[39;00m\u001b[33m palavras\u001b[39m\u001b[33m\"\u001b[39m)\n\u001b[32m     32\u001b[39m texto = \u001b[38;5;28mlist\u001b[39m(contexto_inicial)\n\u001b[32m     33\u001b[39m \u001b[38;5;28;01mfor\u001b[39;00m _ \u001b[38;5;129;01min\u001b[39;00m \u001b[38;5;28mrange\u001b[39m(quantidade):\n",
      "\u001b[31mValueError\u001b[39m: Contexto inicial deve ter pelo menos 6 palavras"
     ]
    }
   ],
   "source": [
    "print(\"Textos gerados:\")\n",
    "print(\"Unigram:\", modelo_1gram.gerar_texto([], 30))\n",
    "print(\"Bigram:\", modelo_2gram.gerar_texto([\"linguagem\"], 15))\n",
    "print(\"Setgram:\", modelo_7gram.gerar_texto([\"modelos\", \"de\"], 50))"
   ]
  },
  {
   "cell_type": "code",
   "execution_count": null,
   "id": "deb6a9a8",
   "metadata": {},
   "outputs": [],
   "source": [
    "texto_demo = \"\"\"\n",
    "A modelagem de linguagem natural é uma técnica importante no processamento de linguagem natural.\n",
    "Os modelos de linguagem podem ser usados para prever a próxima palavra em uma sequência.\n",
    "Existem diversos tipos de modelos de linguagem, incluindo modelos baseados em N-grams e modelos neurais.\n",
    "Os modelos baseados em N-grams são mais simples, mas ainda muito úteis em diversas aplicações.\n",
    "\"\"\""
   ]
  },
  {
   "cell_type": "code",
   "execution_count": 54,
   "id": "4e9573d1",
   "metadata": {},
   "outputs": [],
   "source": [
    "from collections import defaultdict, Counter\n",
    "import numpy as np\n",
    "\n",
    "class ModeloNGram:\n",
    "    def __init__(self, n):\n",
    "        self.n = n\n",
    "        self.contagens = defaultdict(Counter)\n",
    "        self.modelo = {}\n",
    "\n",
    "    def treinar(self, palavras):\n",
    "        for i in range(len(palavras) - self.n + 1):\n",
    "            contexto = tuple(palavras[i:i+self.n-1])  # Aqui, consideramos o contexto de 7-1 = 6 palavras\n",
    "            alvo = palavras[i+self.n-1]\n",
    "            self.contagens[contexto][alvo] += 1\n",
    "\n",
    "        # Normalização das contagens para obter as probabilidades\n",
    "        for contexto, alvos in self.contagens.items():\n",
    "            total = sum(alvos.values())\n",
    "            self.modelo[contexto] = {\n",
    "                palavra: freq / total for palavra, freq in alvos.items()\n",
    "            }\n",
    "\n",
    "    def proxima_palavra(self, contexto):\n",
    "        contexto = tuple(contexto[-(self.n-1):]) if self.n > 1 else ()\n",
    "        if contexto in self.modelo:\n",
    "            palavras = list(self.modelo[contexto].keys())\n",
    "            probs = list(self.modelo[contexto].values())\n",
    "            return np.random.choice(palavras, p=probs)\n",
    "        return None\n",
    "\n",
    "    def gerar_texto(self, contexto_inicial, quantidade=15):\n",
    "        if isinstance(contexto_inicial, str):\n",
    "            contexto_inicial = contexto_inicial.split()\n",
    "        if len(contexto_inicial) < self.n - 1:\n",
    "            raise ValueError(f\"Contexto inicial deve ter pelo menos {self.n - 1} palavras\")\n",
    "        texto = list(contexto_inicial)\n",
    "        for _ in range(quantidade):\n",
    "            prox = self.proxima_palavra(texto)\n",
    "            if not prox:\n",
    "                break\n",
    "            texto.append(prox)\n",
    "        return ' '.join(texto)\n"
   ]
  },
  {
   "cell_type": "code",
   "execution_count": 47,
   "id": "0760035c",
   "metadata": {},
   "outputs": [],
   "source": [
    "modelo_7gram = ModeloNGram(7)\n"
   ]
  },
  {
   "cell_type": "code",
   "execution_count": 48,
   "id": "977e6cee",
   "metadata": {},
   "outputs": [],
   "source": [
    "texto_treino = \"\"\"\n",
    "Os modelos de linguagem são fundamentais para diversas aplicações.\n",
    "A modelagem estatística ajuda a entender padrões em textos.\n",
    "\"\"\"\n",
    "# Transforme o texto em tokens (lista de palavras)\n",
    "tokens = texto_treino.split()\n",
    "\n",
    "# Treine o modelo de 7-grama\n",
    "modelo_7gram.treinar(tokens)\n"
   ]
  },
  {
   "cell_type": "code",
   "execution_count": 51,
   "id": "ed71ff92",
   "metadata": {},
   "outputs": [
    {
     "name": "stdout",
     "output_type": "stream",
     "text": [
      "Os modelos de linguagem devem ter pelo menos seis palavras\n"
     ]
    }
   ],
   "source": [
    "contexto_inicial = \"Os modelos de linguagem devem ter pelo menos seis palavras\"\n",
    "quantidade = 20  # Quantas palavras você quer gerar\n",
    "\n",
    "texto_gerado = modelo_7gram.gerar_texto(contexto_inicial, quantidade)\n",
    "print(texto_gerado)\n"
   ]
  },
  {
   "cell_type": "code",
   "execution_count": 53,
   "id": "332a1d56",
   "metadata": {},
   "outputs": [
    {
     "name": "stdout",
     "output_type": "stream",
     "text": [
      "Texto gerado: OOs modelos de linguagem são fundamentais para diversas aplicações. A modelagem estatística ajuda a entender padrões em textos\n"
     ]
    }
   ],
   "source": [
    "# Supondo que o ModeloNGram tenha sido adaptado para 7-gramas, conforme mostrado acima\n",
    "\n",
    "texto_treino = \"\"\"\n",
    "Os modelos de linguagem são fundamentais para diversas aplicações.\n",
    "A modelagem estatística ajuda a entender padrões em textos.\n",
    "\"\"\"\n",
    "\n",
    "# Transforme o texto em tokens\n",
    "tokens = texto_treino.split()\n",
    "\n",
    "# Crie o modelo de 7-grama e treine-o\n",
    "modelo_7gram = ModeloNGram(7)\n",
    "modelo_7gram.treinar(tokens)\n",
    "\n",
    "# Gere texto a partir de um contexto inicial\n",
    "contexto_inicial = \"OOs modelos de linguagem são fundamentais para diversas aplicações. A modelagem estatística ajuda a entender padrões em textos\"\n",
    "quantidade = 20\n",
    "texto_gerado = modelo_7gram.gerar_texto(contexto_inicial, quantidade)\n",
    "print(\"Texto gerado:\", texto_gerado)\n"
   ]
  },
  {
   "cell_type": "code",
   "execution_count": 1,
   "id": "79dd47d8",
   "metadata": {},
   "outputs": [],
   "source": [
    "texto_treino = \"\"\"\n",
    "A inteligência artificial está transformando diversos setores da sociedade. \n",
    "Os avanços em aprendizado de máquina e redes neurais têm gerado novas possibilidades.\n",
    "Além disso, a automação de processos tem contribuído para a eficiência em empresas.\n",
    "No entanto, também existem desafios éticos e sociais que precisam ser discutidos.\n",
    "A pesquisa em IA continua avançando rapidamente e promete trazer mais inovações.\n",
    "\"\"\"\n"
   ]
  },
  {
   "cell_type": "code",
   "execution_count": 2,
   "id": "72d902c2",
   "metadata": {},
   "outputs": [],
   "source": [
    "\n",
    "contexto_inicial = \"A inteligência artificial está transformando diversos setores\"\n"
   ]
  },
  {
   "cell_type": "code",
   "execution_count": 3,
   "id": "78fd669c",
   "metadata": {},
   "outputs": [
    {
     "name": "stdout",
     "output_type": "stream",
     "text": [
      "Texto gerado: A inteligência artificial está transformando diversos setores da sociedade. Os avanços em aprendizado de máquina e redes neurais têm gerado novas possibilidades. Além disso, a automação de\n"
     ]
    }
   ],
   "source": [
    "from collections import defaultdict, Counter\n",
    "import numpy as np\n",
    "\n",
    "# Definição da classe ModeloNGram (7-grama)\n",
    "class ModeloNGram:\n",
    "    def __init__(self, n):\n",
    "        self.n = n\n",
    "        self.contagens = defaultdict(Counter)\n",
    "        self.modelo = {}\n",
    "\n",
    "    def treinar(self, palavras):\n",
    "        for i in range(len(palavras) - self.n + 1):\n",
    "            contexto = tuple(palavras[i:i+self.n-1])\n",
    "            alvo = palavras[i+self.n-1]\n",
    "            self.contagens[contexto][alvo] += 1\n",
    "\n",
    "        for contexto, alvos in self.contagens.items():\n",
    "            total = sum(alvos.values())\n",
    "            self.modelo[contexto] = {\n",
    "                palavra: freq / total for palavra, freq in alvos.items()\n",
    "            }\n",
    "\n",
    "    def proxima_palavra(self, contexto):\n",
    "        contexto = tuple(contexto[-(self.n-1):]) if self.n > 1 else ()\n",
    "        if contexto in self.modelo:\n",
    "            palavras = list(self.modelo[contexto].keys())\n",
    "            probs = list(self.modelo[contexto].values())\n",
    "            return np.random.choice(palavras, p=probs)\n",
    "        return None\n",
    "\n",
    "    def gerar_texto(self, contexto_inicial, quantidade=15):\n",
    "        if isinstance(contexto_inicial, str):\n",
    "            contexto_inicial = contexto_inicial.split()\n",
    "        if len(contexto_inicial) < self.n - 1:\n",
    "            raise ValueError(f\"Contexto inicial deve ter pelo menos {self.n - 1} palavras\")\n",
    "        texto = list(contexto_inicial)\n",
    "        for _ in range(quantidade):\n",
    "            prox = self.proxima_palavra(texto)\n",
    "            if not prox:\n",
    "                break\n",
    "            texto.append(prox)\n",
    "        return ' '.join(texto)\n",
    "\n",
    "\n",
    "# Texto de treinamento\n",
    "texto_treino = \"\"\"\n",
    "A inteligência artificial está transformando diversos setores da sociedade. \n",
    "Os avanços em aprendizado de máquina e redes neurais têm gerado novas possibilidades.\n",
    "Além disso, a automação de processos tem contribuído para a eficiência em empresas.\n",
    "No entanto, também existem desafios éticos e sociais que precisam ser discutidos.\n",
    "A pesquisa em IA continua avançando rapidamente e promete trazer mais inovações.\n",
    "\"\"\"\n",
    "\n",
    "# Transforme o texto em tokens (palavras)\n",
    "tokens = texto_treino.split()\n",
    "\n",
    "# Crie o modelo de 7-grama e treine-o\n",
    "modelo_7gram = ModeloNGram(7)\n",
    "modelo_7gram.treinar(tokens)\n",
    "\n",
    "# Contexto inicial (6 palavras)\n",
    "contexto_inicial = \"A inteligência artificial está transformando diversos setores\"\n",
    "\n",
    "# Gere o texto com o modelo\n",
    "texto_gerado = modelo_7gram.gerar_texto(contexto_inicial, quantidade=20)\n",
    "print(\"Texto gerado:\", texto_gerado)\n"
   ]
  }
 ],
 "metadata": {
  "kernelspec": {
   "display_name": "Python 3",
   "language": "python",
   "name": "python3"
  },
  "language_info": {
   "codemirror_mode": {
    "name": "ipython",
    "version": 3
   },
   "file_extension": ".py",
   "mimetype": "text/x-python",
   "name": "python",
   "nbconvert_exporter": "python",
   "pygments_lexer": "ipython3",
   "version": "3.12.1"
  }
 },
 "nbformat": 4,
 "nbformat_minor": 5
}
